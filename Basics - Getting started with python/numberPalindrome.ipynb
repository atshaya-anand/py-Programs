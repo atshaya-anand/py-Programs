{
 "cells": [
  {
   "cell_type": "code",
   "execution_count": 2,
   "metadata": {},
   "outputs": [
    {
     "name": "stdout",
     "output_type": "stream",
     "text": [
      "Enter a number:1221\n",
      "Palindrome\n"
     ]
    }
   ],
   "source": [
    "# program to check whether a number is palindrome\n",
    "\n",
    "num = input('Enter a number:')\n",
    "n = int(num)\n",
    "nCopy = n\n",
    "palNum = 0\n",
    "\n",
    "while(n):\n",
    "    i = n%10\n",
    "    palNum = palNum*10+i\n",
    "    n = n//10\n",
    "    \n",
    "if(palNum == nCopy):\n",
    "    print('Palindrome')\n",
    "else:\n",
    "    print('Not a Palindrome')"
   ]
  },
  {
   "cell_type": "code",
   "execution_count": null,
   "metadata": {},
   "outputs": [],
   "source": []
  }
 ],
 "metadata": {
  "kernelspec": {
   "display_name": "Python 3",
   "language": "python",
   "name": "python3"
  },
  "language_info": {
   "codemirror_mode": {
    "name": "ipython",
    "version": 3
   },
   "file_extension": ".py",
   "mimetype": "text/x-python",
   "name": "python",
   "nbconvert_exporter": "python",
   "pygments_lexer": "ipython3",
   "version": "3.7.4"
  }
 },
 "nbformat": 4,
 "nbformat_minor": 2
}
