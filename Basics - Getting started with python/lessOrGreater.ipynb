{
 "cells": [
  {
   "cell_type": "code",
   "execution_count": 1,
   "metadata": {},
   "outputs": [
    {
     "name": "stdout",
     "output_type": "stream",
     "text": [
      "Enter a number:50\n",
      "It is 50\n"
     ]
    }
   ],
   "source": [
    "# program to check whether a number is greater or lesser than 50\n",
    "\n",
    "num = input('Enter a number:')\n",
    "n = int(num)\n",
    "\n",
    "if (n<50):\n",
    "    print('Lesser than 50')\n",
    "elif (n==50):\n",
    "    print(\"It is 50\")\n",
    "else:\n",
    "    print('Greater than 50')"
   ]
  },
  {
   "cell_type": "code",
   "execution_count": null,
   "metadata": {},
   "outputs": [],
   "source": []
  }
 ],
 "metadata": {
  "kernelspec": {
   "display_name": "Python 3",
   "language": "python",
   "name": "python3"
  },
  "language_info": {
   "codemirror_mode": {
    "name": "ipython",
    "version": 3
   },
   "file_extension": ".py",
   "mimetype": "text/x-python",
   "name": "python",
   "nbconvert_exporter": "python",
   "pygments_lexer": "ipython3",
   "version": "3.7.4"
  }
 },
 "nbformat": 4,
 "nbformat_minor": 2
}
