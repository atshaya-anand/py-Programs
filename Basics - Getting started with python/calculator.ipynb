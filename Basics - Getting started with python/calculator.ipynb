{
 "cells": [
  {
   "cell_type": "code",
   "execution_count": null,
   "metadata": {},
   "outputs": [],
   "source": [
    "# simple calculator\n",
    "\n",
    "num1 = input('Enter first number:')\n",
    "num2 = input('Enter second number:')\n",
    "\n",
    "add = int(num1) + int(num2)\n",
    "sub = int(num1) - int(num2)\n",
    "mul = int(num1) * int(num2)\n",
    "div = int(num1) / int(num2)\n",
    "rem = int(num1) % int(num2)\n",
    "\n",
    "print('Addition',add)\n",
    "print('Subtraction',sub)\n",
    "print('Multiplicaton',add)\n",
    "print('Addition',add)\n",
    "print('Addition',add)"
   ]
  }
 ],
 "metadata": {
  "kernelspec": {
   "display_name": "Python 3",
   "language": "python",
   "name": "python3"
  },
  "language_info": {
   "codemirror_mode": {
    "name": "ipython",
    "version": 3
   },
   "file_extension": ".py",
   "mimetype": "text/x-python",
   "name": "python",
   "nbconvert_exporter": "python",
   "pygments_lexer": "ipython3",
   "version": "3.7.4"
  }
 },
 "nbformat": 4,
 "nbformat_minor": 2
}
