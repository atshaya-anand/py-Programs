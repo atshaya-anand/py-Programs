{
 "cells": [
  {
   "cell_type": "code",
   "execution_count": 1,
   "metadata": {},
   "outputs": [
    {
     "name": "stdout",
     "output_type": "stream",
     "text": [
      "Enter the terms:9\n",
      "The fibonacci series is:\n",
      "1\n",
      "2\n",
      "3\n",
      "5\n",
      "8\n",
      "13\n",
      "21\n",
      "34\n",
      "55\n",
      "Enter the terms:3\n",
      "The fibonacci series is:\n",
      "0\n",
      "1\n",
      "1\n"
     ]
    }
   ],
   "source": [
    "# program to generate fibonacci series from 1 till n terms\n",
    "\n",
    "a = 0\n",
    "b = 1\n",
    "n = input('Enter the terms:')\n",
    "num = int(n)\n",
    "\n",
    "print('The fibonacci series is:')\n",
    "for i in range(num):\n",
    "    c = a + b\n",
    "    a = b\n",
    "    b = c\n",
    "    print(c)\n",
    "    \n",
    "    \n",
    "# fibonacci starting from 0\n",
    "a = -1\n",
    "b = 1\n",
    "n = input('Enter the terms:')\n",
    "num = int(n)\n",
    "\n",
    "print('The fibonacci series is:')\n",
    "for i in range(num):\n",
    "    c = a + b\n",
    "    a = b\n",
    "    b = c\n",
    "    print(c)"
   ]
  },
  {
   "cell_type": "code",
   "execution_count": null,
   "metadata": {},
   "outputs": [],
   "source": []
  }
 ],
 "metadata": {
  "kernelspec": {
   "display_name": "Python 3",
   "language": "python",
   "name": "python3"
  },
  "language_info": {
   "codemirror_mode": {
    "name": "ipython",
    "version": 3
   },
   "file_extension": ".py",
   "mimetype": "text/x-python",
   "name": "python",
   "nbconvert_exporter": "python",
   "pygments_lexer": "ipython3",
   "version": "3.7.4"
  }
 },
 "nbformat": 4,
 "nbformat_minor": 2
}
