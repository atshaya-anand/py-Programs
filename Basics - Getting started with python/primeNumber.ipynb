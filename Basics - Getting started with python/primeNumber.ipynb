{
 "cells": [
  {
   "cell_type": "code",
   "execution_count": 2,
   "metadata": {},
   "outputs": [
    {
     "name": "stdout",
     "output_type": "stream",
     "text": [
      "Enter a number:6\n",
      "Not a prime Number\n"
     ]
    }
   ],
   "source": [
    "# program to find whether a number is prime or not\n",
    "\n",
    "num = input('Enter a number:')\n",
    "n = int(num)\n",
    "\n",
    "flag = 1\n",
    "for i in range(2,n):\n",
    "    if(n%i==0):\n",
    "        flag = 0\n",
    "    \n",
    "if(flag == 1):\n",
    "    print('Prime Number')\n",
    "else:\n",
    "    print('Not a prime Number')"
   ]
  },
  {
   "cell_type": "code",
   "execution_count": null,
   "metadata": {},
   "outputs": [],
   "source": []
  },
  {
   "cell_type": "code",
   "execution_count": null,
   "metadata": {},
   "outputs": [],
   "source": []
  }
 ],
 "metadata": {
  "kernelspec": {
   "display_name": "Python 3",
   "language": "python",
   "name": "python3"
  },
  "language_info": {
   "codemirror_mode": {
    "name": "ipython",
    "version": 3
   },
   "file_extension": ".py",
   "mimetype": "text/x-python",
   "name": "python",
   "nbconvert_exporter": "python",
   "pygments_lexer": "ipython3",
   "version": "3.7.4"
  }
 },
 "nbformat": 4,
 "nbformat_minor": 2
}
