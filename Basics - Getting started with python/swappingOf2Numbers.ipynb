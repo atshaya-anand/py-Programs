{
 "cells": [
  {
   "cell_type": "code",
   "execution_count": 1,
   "metadata": {},
   "outputs": [
    {
     "name": "stdout",
     "output_type": "stream",
     "text": [
      "Enter 1st number:94\n",
      "Enter 2nd number:32\n",
      "Initially a = 94 and b = 32\n",
      "After Swapping a = 32 and b = 94\n"
     ]
    }
   ],
   "source": [
    "# program to swap 2 numbers in a variable\n",
    "\n",
    "num1 = input('Enter 1st number:')\n",
    "a = int(num1)\n",
    "num2 = input('Enter 2nd number:')\n",
    "b = int(num2)\n",
    "\n",
    "print('Initially a =',a,'and b =',b)\n",
    "a = a + b\n",
    "b = a - b\n",
    "a = a - b\n",
    "print('After Swapping a =',a,'and b =',b)"
   ]
  },
  {
   "cell_type": "code",
   "execution_count": null,
   "metadata": {},
   "outputs": [],
   "source": []
  }
 ],
 "metadata": {
  "kernelspec": {
   "display_name": "Python 3",
   "language": "python",
   "name": "python3"
  },
  "language_info": {
   "codemirror_mode": {
    "name": "ipython",
    "version": 3
   },
   "file_extension": ".py",
   "mimetype": "text/x-python",
   "name": "python",
   "nbconvert_exporter": "python",
   "pygments_lexer": "ipython3",
   "version": "3.7.4"
  }
 },
 "nbformat": 4,
 "nbformat_minor": 2
}
