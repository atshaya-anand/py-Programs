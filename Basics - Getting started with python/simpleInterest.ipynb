{
 "cells": [
  {
   "cell_type": "code",
   "execution_count": 1,
   "metadata": {},
   "outputs": [
    {
     "name": "stdout",
     "output_type": "stream",
     "text": [
      "Enter the principal amount:1000\n",
      "Enter the number of years:2\n",
      "Enter the rate of interest:2\n",
      "The Simple Interest is 40.0\n"
     ]
    }
   ],
   "source": [
    "# program to find the simple interest\n",
    "\n",
    "p = input('Enter the principal amount:')\n",
    "n = input('Enter the number of years:')\n",
    "r = input('Enter the rate of interest:')\n",
    "\n",
    "SI = (int(p)*int(n)*int(r))/100\n",
    "print('The Simple Interest is',SI)"
   ]
  },
  {
   "cell_type": "code",
   "execution_count": null,
   "metadata": {},
   "outputs": [],
   "source": []
  }
 ],
 "metadata": {
  "kernelspec": {
   "display_name": "Python 3",
   "language": "python",
   "name": "python3"
  },
  "language_info": {
   "codemirror_mode": {
    "name": "ipython",
    "version": 3
   },
   "file_extension": ".py",
   "mimetype": "text/x-python",
   "name": "python",
   "nbconvert_exporter": "python",
   "pygments_lexer": "ipython3",
   "version": "3.7.4"
  }
 },
 "nbformat": 4,
 "nbformat_minor": 2
}
