{
 "cells": [
  {
   "cell_type": "code",
   "execution_count": 10,
   "metadata": {},
   "outputs": [
    {
     "name": "stdout",
     "output_type": "stream",
     "text": [
      "Enter the number:8\n",
      "The 8 th fibonacci number is\n",
      "34\n"
     ]
    }
   ],
   "source": [
    "# program to find the nth fibonacci number\n",
    "\n",
    "a = 0   #this is fibonacci series starting from 1\n",
    "b = 1\n",
    "c = 0\n",
    "n = input('Enter the number:')\n",
    "\n",
    "print('The',n,'th fibonacci number is')\n",
    "for i in range(int(n)):\n",
    "    c = a+b\n",
    "    a = b\n",
    "    b = c\n",
    "print(c)\n"
   ]
  },
  {
   "cell_type": "code",
   "execution_count": null,
   "metadata": {},
   "outputs": [],
   "source": []
  }
 ],
 "metadata": {
  "kernelspec": {
   "display_name": "Python 3",
   "language": "python",
   "name": "python3"
  },
  "language_info": {
   "codemirror_mode": {
    "name": "ipython",
    "version": 3
   },
   "file_extension": ".py",
   "mimetype": "text/x-python",
   "name": "python",
   "nbconvert_exporter": "python",
   "pygments_lexer": "ipython3",
   "version": "3.7.4"
  }
 },
 "nbformat": 4,
 "nbformat_minor": 2
}
