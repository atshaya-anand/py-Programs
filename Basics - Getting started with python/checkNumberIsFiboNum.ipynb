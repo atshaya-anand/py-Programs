{
 "cells": [
  {
   "cell_type": "code",
   "execution_count": 6,
   "metadata": {},
   "outputs": [
    {
     "name": "stdout",
     "output_type": "stream",
     "text": [
      "Enter a number:54\n",
      "Not a fibonacci number\n"
     ]
    }
   ],
   "source": [
    "# program to find whether a number is a fibonacci number\n",
    "\n",
    "num = input('Enter a number:')\n",
    "n = int(num)\n",
    "\n",
    "if(n==0 or n==1):\n",
    "    print('Fibonacci number')\n",
    "\n",
    "a = 0\n",
    "b = 1\n",
    "c = a+b\n",
    "\n",
    "if(c==n):\n",
    "    print('Fibonacci number')\n",
    "\n",
    "flag = 0\n",
    "while(c<n):\n",
    "    a = b\n",
    "    b = c\n",
    "    c = a+b\n",
    "    if(c==n):\n",
    "        print('Fibonacci Number')\n",
    "        flag = 1\n",
    "        \n",
    "if(flag == 0):\n",
    "    print('Not a fibonacci number')"
   ]
  },
  {
   "cell_type": "code",
   "execution_count": null,
   "metadata": {},
   "outputs": [],
   "source": []
  },
  {
   "cell_type": "code",
   "execution_count": null,
   "metadata": {},
   "outputs": [],
   "source": []
  },
  {
   "cell_type": "code",
   "execution_count": null,
   "metadata": {},
   "outputs": [],
   "source": []
  }
 ],
 "metadata": {
  "kernelspec": {
   "display_name": "Python 3",
   "language": "python",
   "name": "python3"
  },
  "language_info": {
   "codemirror_mode": {
    "name": "ipython",
    "version": 3
   },
   "file_extension": ".py",
   "mimetype": "text/x-python",
   "name": "python",
   "nbconvert_exporter": "python",
   "pygments_lexer": "ipython3",
   "version": "3.7.4"
  }
 },
 "nbformat": 4,
 "nbformat_minor": 2
}
