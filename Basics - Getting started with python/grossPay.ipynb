{
 "cells": [
  {
   "cell_type": "code",
   "execution_count": 2,
   "metadata": {},
   "outputs": [
    {
     "name": "stdout",
     "output_type": "stream",
     "text": [
      "Enter the working hours:8.5\n",
      "Enter the rate per hour:200\n",
      "Your pay is 1700.0\n"
     ]
    }
   ],
   "source": [
    "# program to calculate the gross pay\n",
    "\n",
    "hours = input('Enter the working hours:')\n",
    "rate = input('Enter the rate per hour:')\n",
    "pay = float(hours) * float(rate)\n",
    "print('Your pay is', pay)"
   ]
  },
  {
   "cell_type": "code",
   "execution_count": null,
   "metadata": {},
   "outputs": [],
   "source": []
  }
 ],
 "metadata": {
  "kernelspec": {
   "display_name": "Python 3",
   "language": "python",
   "name": "python3"
  },
  "language_info": {
   "codemirror_mode": {
    "name": "ipython",
    "version": 3
   },
   "file_extension": ".py",
   "mimetype": "text/x-python",
   "name": "python",
   "nbconvert_exporter": "python",
   "pygments_lexer": "ipython3",
   "version": "3.7.4"
  }
 },
 "nbformat": 4,
 "nbformat_minor": 2
}
