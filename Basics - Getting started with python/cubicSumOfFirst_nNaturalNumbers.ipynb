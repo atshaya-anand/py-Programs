{
 "cells": [
  {
   "cell_type": "code",
   "execution_count": 1,
   "metadata": {},
   "outputs": [
    {
     "name": "stdout",
     "output_type": "stream",
     "text": [
      "Enter the number:3\n",
      "The cubic sum of first 3 natural numbers is 36\n"
     ]
    }
   ],
   "source": [
    "# program  to generate cube sum of first n natural numbers\n",
    "\n",
    "num = input('Enter the number:')\n",
    "n = int(num)\n",
    "\n",
    "summ = 0\n",
    "for i in range(1,n+1):\n",
    "    summ += i**3\n",
    "    \n",
    "print('The cubic sum of first',n,'natural numbers is',summ)"
   ]
  },
  {
   "cell_type": "code",
   "execution_count": null,
   "metadata": {},
   "outputs": [],
   "source": []
  }
 ],
 "metadata": {
  "kernelspec": {
   "display_name": "Python 3",
   "language": "python",
   "name": "python3"
  },
  "language_info": {
   "codemirror_mode": {
    "name": "ipython",
    "version": 3
   },
   "file_extension": ".py",
   "mimetype": "text/x-python",
   "name": "python",
   "nbconvert_exporter": "python",
   "pygments_lexer": "ipython3",
   "version": "3.7.4"
  }
 },
 "nbformat": 4,
 "nbformat_minor": 2
}
