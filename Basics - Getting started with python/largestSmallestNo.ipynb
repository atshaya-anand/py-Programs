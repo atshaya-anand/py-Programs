{
 "cells": [
  {
   "cell_type": "code",
   "execution_count": 5,
   "metadata": {},
   "outputs": [
    {
     "name": "stdout",
     "output_type": "stream",
     "text": [
      "Largest Number is 90 and smallest number is 3\n",
      "90\n",
      "3\n"
     ]
    }
   ],
   "source": [
    "# program to find the largest and smallest value in an array\n",
    "\n",
    "numbers = [11,55,34,85,90,3]\n",
    "\n",
    "max_no = 0\n",
    "min_no = 0\n",
    "\n",
    "for num in numbers:\n",
    "    if(max_no<num):    max_no = num;min_no = max_no\n",
    "    if(min_no>num):    min_no = num\n",
    "print('Largest Number is',max_no,'and smallest number is',min_no)\n",
    "\n",
    "# can also be found with in-built function\n",
    "print(max(numbers))\n",
    "print(min(numbers))"
   ]
  },
  {
   "cell_type": "code",
   "execution_count": null,
   "metadata": {},
   "outputs": [],
   "source": []
  }
 ],
 "metadata": {
  "kernelspec": {
   "display_name": "Python 3",
   "language": "python",
   "name": "python3"
  },
  "language_info": {
   "codemirror_mode": {
    "name": "ipython",
    "version": 3
   },
   "file_extension": ".py",
   "mimetype": "text/x-python",
   "name": "python",
   "nbconvert_exporter": "python",
   "pygments_lexer": "ipython3",
   "version": "3.7.4"
  }
 },
 "nbformat": 4,
 "nbformat_minor": 2
}
