{
 "cells": [
  {
   "cell_type": "code",
   "execution_count": 26,
   "metadata": {},
   "outputs": [
    {
     "name": "stdout",
     "output_type": "stream",
     "text": [
      "Enter the first interval:1\n",
      "Enter the end interval:20\n",
      "The prime numbers between 1 and 20 are\n",
      "2\n",
      "3\n",
      "5\n",
      "7\n",
      "11\n",
      "13\n",
      "17\n",
      "19\n"
     ]
    }
   ],
   "source": [
    "# program to generate all prime numbers within a given interval\n",
    "\n",
    "nn = input('Enter the first interval:')\n",
    "low = int(nn)\n",
    "n = input('Enter the end interval:')\n",
    "high = int(n)\n",
    "\n",
    "print('The prime numbers between',low,'and',high,'are')\n",
    "\n",
    "while(low < high):\n",
    "    flag = 0\n",
    "    if (low <= 1):\n",
    "        low += 1\n",
    "    for i in range(2,low):\n",
    "        if(low % i == 0):\n",
    "            flag = 1\n",
    "    if(flag == 0):\n",
    "        print(low)\n",
    "    low += 1"
   ]
  },
  {
   "cell_type": "code",
   "execution_count": null,
   "metadata": {},
   "outputs": [],
   "source": []
  }
 ],
 "metadata": {
  "kernelspec": {
   "display_name": "Python 3",
   "language": "python",
   "name": "python3"
  },
  "language_info": {
   "codemirror_mode": {
    "name": "ipython",
    "version": 3
   },
   "file_extension": ".py",
   "mimetype": "text/x-python",
   "name": "python",
   "nbconvert_exporter": "python",
   "pygments_lexer": "ipython3",
   "version": "3.7.4"
  }
 },
 "nbformat": 4,
 "nbformat_minor": 2
}
