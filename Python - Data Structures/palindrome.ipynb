{
 "cells": [
  {
   "cell_type": "code",
   "execution_count": 6,
   "metadata": {},
   "outputs": [
    {
     "name": "stdout",
     "output_type": "stream",
     "text": [
      "Enter a string:malayalam\n",
      "Palindrome\n"
     ]
    }
   ],
   "source": [
    "# string Palindrome\n",
    "\n",
    "string = input('Enter a string:')\n",
    "revString = \"\"\n",
    "\n",
    "i = len(string)\n",
    "for i in string:\n",
    "    revString = i + revString\n",
    "\n",
    "if revString == string:\n",
    "    print('Palindrome')\n",
    "else:\n",
    "    print('Not a Palindrome')\n"
   ]
  },
  {
   "cell_type": "code",
   "execution_count": null,
   "metadata": {},
   "outputs": [],
   "source": []
  }
 ],
 "metadata": {
  "kernelspec": {
   "display_name": "Python 3",
   "language": "python",
   "name": "python3"
  },
  "language_info": {
   "codemirror_mode": {
    "name": "ipython",
    "version": 3
   },
   "file_extension": ".py",
   "mimetype": "text/x-python",
   "name": "python",
   "nbconvert_exporter": "python",
   "pygments_lexer": "ipython3",
   "version": "3.7.4"
  }
 },
 "nbformat": 4,
 "nbformat_minor": 2
}
