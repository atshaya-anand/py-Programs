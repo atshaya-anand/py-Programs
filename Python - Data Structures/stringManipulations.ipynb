{
 "cells": [
  {
   "cell_type": "code",
   "execution_count": 1,
   "metadata": {},
   "outputs": [
    {
     "name": "stdout",
     "output_type": "stream",
     "text": [
      "From Stephan.with@utc.zad.co.in\n"
     ]
    }
   ],
   "source": [
    "# program to play with string - builtin methods\n",
    "\n",
    "email = \"From Stephan.with@utc.zad.co.in\"\n",
    "print(email)\n"
   ]
  },
  {
   "cell_type": "code",
   "execution_count": 2,
   "metadata": {},
   "outputs": [
    {
     "name": "stdout",
     "output_type": "stream",
     "text": [
      "FROM STEPHAN.WITH@UTC.ZAD.CO.IN\n"
     ]
    }
   ],
   "source": [
    "# convert all the letters to uppercase\n",
    "print(email.upper())"
   ]
  },
  {
   "cell_type": "code",
   "execution_count": 3,
   "metadata": {},
   "outputs": [
    {
     "name": "stdout",
     "output_type": "stream",
     "text": [
      "from stephan.with@utc.zad.co.in\n"
     ]
    }
   ],
   "source": [
    "# convert all the letters to lowercase\n",
    "print(email.lower())"
   ]
  },
  {
   "cell_type": "code",
   "execution_count": 4,
   "metadata": {},
   "outputs": [
    {
     "name": "stdout",
     "output_type": "stream",
     "text": [
      "False\n"
     ]
    }
   ],
   "source": [
    "# say whether the string is starting with @\n",
    "print(email.startswith('@'))"
   ]
  },
  {
   "cell_type": "code",
   "execution_count": 5,
   "metadata": {},
   "outputs": [
    {
     "name": "stdout",
     "output_type": "stream",
     "text": [
      "@utc.zad.co.in\n"
     ]
    }
   ],
   "source": [
    "# string slicing\n",
    "print(email[17:])"
   ]
  },
  {
   "cell_type": "code",
   "execution_count": 6,
   "metadata": {},
   "outputs": [
    {
     "name": "stdout",
     "output_type": "stream",
     "text": [
      "From Steph\n"
     ]
    }
   ],
   "source": [
    "print(email[:10])"
   ]
  },
  {
   "cell_type": "code",
   "execution_count": 7,
   "metadata": {},
   "outputs": [
    {
     "name": "stdout",
     "output_type": "stream",
     "text": [
      "Hi\n"
     ]
    }
   ],
   "source": [
    "# eliminate whitespaces from both end\n",
    "\n",
    "word = \"    Hi    \"\n",
    "print(word.strip())"
   ]
  },
  {
   "cell_type": "code",
   "execution_count": 8,
   "metadata": {},
   "outputs": [
    {
     "name": "stdout",
     "output_type": "stream",
     "text": [
      "Hi  the   word\n"
     ]
    }
   ],
   "source": [
    "# eliminate whitespaces from left side alone\n",
    "\n",
    "word = \"    Hi  the   word\"\n",
    "print(word.lstrip())\n",
    "\n"
   ]
  },
  {
   "cell_type": "code",
   "execution_count": 10,
   "metadata": {},
   "outputs": [
    {
     "name": "stdout",
     "output_type": "stream",
     "text": [
      "word\n"
     ]
    }
   ],
   "source": [
    "# eliminate whitespaces from right side alone\n",
    "\n",
    "word = \"word    \"\n",
    "print(word.rstrip())"
   ]
  },
  {
   "cell_type": "code",
   "execution_count": 11,
   "metadata": {},
   "outputs": [
    {
     "name": "stdout",
     "output_type": "stream",
     "text": [
      "31\n"
     ]
    }
   ],
   "source": [
    "# find the length of string\n",
    "\n",
    "print(len(email))"
   ]
  },
  {
   "cell_type": "code",
   "execution_count": 12,
   "metadata": {},
   "outputs": [
    {
     "name": "stdout",
     "output_type": "stream",
     "text": [
      "['From', 'Stephan.with@utc.zad.co.in'] ['From Stephan.with', 'utc.zad.co.in'] ['From Stephan', 'with@utc', 'zad', 'co', 'in']\n"
     ]
    }
   ],
   "source": [
    "# splits the string\n",
    "\n",
    "word1 = email.split() # splits using whitespace\n",
    "word2 = email.split('@') # using @\n",
    "word3 = email.split('.') # using .\n",
    "\n",
    "print(word1,word2,word3)"
   ]
  },
  {
   "cell_type": "code",
   "execution_count": null,
   "metadata": {},
   "outputs": [],
   "source": []
  }
 ],
 "metadata": {
  "kernelspec": {
   "display_name": "Python 3",
   "language": "python",
   "name": "python3"
  },
  "language_info": {
   "codemirror_mode": {
    "name": "ipython",
    "version": 3
   },
   "file_extension": ".py",
   "mimetype": "text/x-python",
   "name": "python",
   "nbconvert_exporter": "python",
   "pygments_lexer": "ipython3",
   "version": "3.7.4"
  }
 },
 "nbformat": 4,
 "nbformat_minor": 2
}
